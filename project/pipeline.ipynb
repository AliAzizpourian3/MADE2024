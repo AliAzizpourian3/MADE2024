{
 "cells": [
  {
   "cell_type": "code",
   "execution_count": null,
   "metadata": {},
   "outputs": [
    {
     "name": "stdout",
     "output_type": "stream",
     "text": [
      "Data pipeline executed successfully. Merged dataset saved in /data directory.\n"
     ]
    },
    {
     "name": "stderr",
     "output_type": "stream",
     "text": [
      "C:\\Users\\aliaz\\AppData\\Local\\Temp\\ipykernel_27256\\1318058727.py:19: SettingWithCopyWarning: \n",
      "A value is trying to be set on a copy of a slice from a DataFrame\n",
      "\n",
      "See the caveats in the documentation: https://pandas.pydata.org/pandas-docs/stable/user_guide/indexing.html#returning-a-view-versus-a-copy\n",
      "  election_data.dropna(inplace=True)\n",
      "C:\\Users\\aliaz\\AppData\\Local\\Temp\\ipykernel_27256\\1318058727.py:25: SettingWithCopyWarning: \n",
      "A value is trying to be set on a copy of a slice from a DataFrame\n",
      "\n",
      "See the caveats in the documentation: https://pandas.pydata.org/pandas-docs/stable/user_guide/indexing.html#returning-a-view-versus-a-copy\n",
      "  air_quality_data.dropna(inplace=True)\n",
      "C:\\Users\\aliaz\\AppData\\Local\\Temp\\ipykernel_27256\\1318058727.py:26: SettingWithCopyWarning: \n",
      "A value is trying to be set on a copy of a slice from a DataFrame.\n",
      "Try using .loc[row_indexer,col_indexer] = value instead\n",
      "\n",
      "See the caveats in the documentation: https://pandas.pydata.org/pandas-docs/stable/user_guide/indexing.html#returning-a-view-versus-a-copy\n",
      "  air_quality_data['date'] = pd.to_datetime(air_quality_data['date'])\n"
     ]
    }
   ],
   "source": [
    "# PW_3\n",
    "import pandas as pd\n",
    "import sqlite3\n",
    "import os\n",
    "\n",
    "output_dir = \"./data\"\n",
    "os.makedirs(output_dir, exist_ok=True)\n",
    "\n",
    "url_election_data = \"https://www.kaggle.com/api/v1/datasets/download/essarabi/ultimate-us-election-dataset\"\n",
    "url_air_quality_data = \"https://www.kaggle.com/api/v1/datasets/download/sumandey/daily-air-quality-dataset-india\"\n",
    "\n",
    "def load_datasets():\n",
    "    election_data = pd.read_csv(url_election_data, compression='zip')\n",
    "    air_quality_data = pd.read_csv(url_air_quality_data, compression='zip')\n",
    "    return election_data, air_quality_data\n",
    "\n",
    "def preprocess_election_data(election_data):\n",
    "    election_data = election_data[['county', 'state', 'Density per square km', 'Median income (dollars)']]\n",
    "    election_data.columns = ['county', 'state', 'population_density', 'median_income']\n",
    "    election_data.dropna(inplace=True)\n",
    "    return election_data\n",
    "\n",
    "def preprocess_air_quality_data(air_quality_data):\n",
    "    air_quality_data = air_quality_data[['CITY', 'DATE', 'VALUE']]\n",
    "    air_quality_data.columns = ['city', 'date', 'pm2.5']\n",
    "    air_quality_data.dropna(inplace=True)\n",
    "    air_quality_data['date'] = pd.to_datetime(air_quality_data['date'])\n",
    "    air_quality_data = air_quality_data.groupby('city', as_index=False)['pm2.5'].mean()\n",
    "    return air_quality_data\n",
    "\n",
    "def merge_data(election_data, air_quality_data):\n",
    "    election_data['county'] = election_data['county'].str.lower()\n",
    "    air_quality_data['city'] = air_quality_data['city'].str.lower()\n",
    "    merged_data = pd.merge(election_data, air_quality_data, left_on='county', right_on='city', how='inner')\n",
    "    return merged_data\n",
    "\n",
    "def save_data(merged_data):\n",
    "    csv_path = os.path.join(output_dir, 'merged_population_density_air_quality.csv')\n",
    "    merged_data.to_csv(csv_path, index=False)\n",
    "    sqlite_path = os.path.join(output_dir, 'population_density_air_quality.db')\n",
    "    conn = sqlite3.connect(sqlite_path)\n",
    "    merged_data.to_sql('merged_data', conn, if_exists='replace', index=False)\n",
    "    conn.close()\n",
    "\n",
    "def main():\n",
    "    election_data, air_quality_data = load_datasets()\n",
    "    election_data = preprocess_election_data(election_data)\n",
    "    air_quality_data = preprocess_air_quality_data(air_quality_data)\n",
    "    merged_data = merge_data(election_data, air_quality_data)\n",
    "    save_data(merged_data)\n",
    "    print(\"Data pipeline executed successfully. Merged dataset saved in /data directory.\")\n",
    "\n",
    "if __name__ == \"__main__\":\n",
    "    main()\n",
    "#done:)"
   ]
  },
  {
   "cell_type": "code",
   "execution_count": null,
   "metadata": {},
   "outputs": [],
   "source": []
  }
 ],
 "metadata": {
  "kernelspec": {
   "display_name": ".venv",
   "language": "python",
   "name": "python3"
  },
  "language_info": {
   "codemirror_mode": {
    "name": "ipython",
    "version": 3
   },
   "file_extension": ".py",
   "mimetype": "text/x-python",
   "name": "python",
   "nbconvert_exporter": "python",
   "pygments_lexer": "ipython3",
   "version": "3.11.9"
  }
 },
 "nbformat": 4,
 "nbformat_minor": 2
}
