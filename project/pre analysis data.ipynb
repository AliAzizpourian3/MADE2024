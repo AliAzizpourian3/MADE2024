{
 "cells": [
  {
   "cell_type": "code",
   "execution_count": null,
   "metadata": {},
   "outputs": [],
   "source": [
    "import pandas as pd"
   ]
  },
  {
   "cell_type": "code",
   "execution_count": null,
   "metadata": {},
   "outputs": [],
   "source": [
    "\n",
    "# Define file paths\n",
    "wages_hours_path = r\"C:\\Users\\aliaz\\Desktop\\WS2024\\MADE2024\\data\\EPI Data Library - Annual wages and work hours.csv\"\n",
    "health_insurance_path = r\"C:\\Users\\aliaz\\Desktop\\WS2024\\MADE2024\\data\\EPI Data Library - Health insurance coverage.csv\"\n",
    "\n",
    "# Step 1: Load the datasets\n",
    "wages_hours_df = pd.read_csv(wages_hours_path)\n",
    "health_insurance_df = pd.read_csv(health_insurance_path)\n",
    "\n",
    "# Step 2: Basic Dataset Information\n",
    "print(\"Annual Wages and Work Hours Dataset Info:\")\n",
    "print(wages_hours_df.info(), \"\\n\")\n",
    "print(\"Health Insurance Coverage Dataset Info:\")\n",
    "print(health_insurance_df.info(), \"\\n\")\n",
    "\n",
    "# Step 3: Preview the First Few Rows\n",
    "print(\"First few rows of Annual Wages and Work Hours Dataset:\")\n",
    "print(wages_hours_df.head(), \"\\n\")\n",
    "print(\"First few rows of Health Insurance Coverage Dataset:\")\n",
    "print(health_insurance_df.head(), \"\\n\")\n",
    "\n",
    "# Step 4: Check for Missing Values\n",
    "print(\"Missing values in Annual Wages and Work Hours Dataset:\")\n",
    "print(wages_hours_df.isnull().sum(), \"\\n\")\n",
    "print(\"Missing values in Health Insurance Coverage Dataset:\")\n",
    "print(health_insurance_df.isnull().sum(), \"\\n\")\n",
    "\n",
    "# Step 5: Display Rows with Missing Values\n",
    "print(\"Rows with missing values in Annual Wages and Work Hours Dataset:\")\n",
    "print(wages_hours_df[wages_hours_df.isnull().any(axis=1)], \"\\n\")\n",
    "\n",
    "print(\"Rows with missing values in Health Insurance Coverage Dataset:\")\n",
    "print(health_insurance_df[health_insurance_df.isnull().any(axis=1)], \"\\n\")"
   ]
  },
  {
   "cell_type": "code",
   "execution_count": null,
   "metadata": {},
   "outputs": [],
   "source": [
    "\n",
    "# Step 6: Data Cleaning - Remove Symbols and Convert to Numeric Types\n",
    "# Remove '$' and ',' from wage columns and convert them to float for numerical analysis.\n",
    "wages_columns = ['Annual wages (March CPS)', 'Weekly wages (March CPS)', 'Hourly wages (March CPS)', 'Annual hours worked']\n",
    "for col in wages_columns:\n",
    "    wages_hours_df[col] = wages_hours_df[col].replace('[\\$,]', '', regex=True).astype(float)\n",
    "\n",
    "# Remove '%' from health insurance columns and convert them to float for numerical analysis.\n",
    "health_insurance_columns = ['All', 'Men', 'Women', 'High school', \"Bachelor's degree\", \n",
    "                            'Recent high-school graduate', 'Recent college graduate']\n",
    "for col in health_insurance_columns:\n",
    "    health_insurance_df[col] = health_insurance_df[col].replace('%', '', regex=True).astype(float)\n",
    "\n",
    "# Step 7: Verify Data Cleaning\n",
    "# Display the first few rows of the cleaned datasets to confirm the changes.\n",
    "print(\"Cleaned Annual Wages and Work Hours Dataset:\")\n",
    "print(wages_hours_df.head(), \"\\n\")\n",
    "\n",
    "print(\"Cleaned Health Insurance Coverage Dataset:\")\n",
    "print(health_insurance_df.head(), \"\\n\")"
   ]
  },
  {
   "cell_type": "code",
   "execution_count": null,
   "metadata": {},
   "outputs": [],
   "source": [
    "\n",
    "# Step 8: Determine Cutoff Year Based on Missing Data\n",
    "# Find the latest year with missing values in each dataset and use it to filter out incomplete rows.\n",
    "latest_missing_year_wages = wages_hours_df[wages_hours_df.isnull().any(axis=1)]['Date'].max()\n",
    "latest_missing_year_insurance = health_insurance_df[health_insurance_df.isnull().any(axis=1)]['Date'].max()\n",
    "\n",
    "# Determine the cutoff year as the maximum of the latest missing years in both datasets.\n",
    "cutoff_year = max(latest_missing_year_wages, latest_missing_year_insurance)\n",
    "print(\"Cutoff Year (latest year with any missing values):\", cutoff_year)\n",
    "\n",
    "# Step 9: Filter Datasets to Include Only Complete Data After Cutoff Year\n",
    "# Keep only the rows with data available for both datasets from years after the cutoff.\n",
    "filtered_wages_hours_df = wages_hours_df[wages_hours_df['Date'] > cutoff_year]\n",
    "filtered_health_insurance_df = health_insurance_df[health_insurance_df['Date'] > cutoff_year]\n",
    "\n",
    "# Step 10: Display Filtered Datasets\n",
    "# Show the filtered datasets to confirm that only rows with complete data are retained.\n",
    "print(\"Filtered Annual Wages and Work Hours Dataset:\")\n",
    "print(filtered_wages_hours_df)\n",
    "\n",
    "print(\"\\nFiltered Health Insurance Coverage Dataset:\")\n",
    "print(filtered_health_insurance_df)\n"
   ]
  }
 ],
 "metadata": {
  "kernelspec": {
   "display_name": ".venv",
   "language": "python",
   "name": "python3"
  },
  "language_info": {
   "codemirror_mode": {
    "name": "ipython",
    "version": 3
   },
   "file_extension": ".py",
   "mimetype": "text/x-python",
   "name": "python",
   "nbconvert_exporter": "python",
   "pygments_lexer": "ipython3",
   "version": "3.11.9"
  }
 },
 "nbformat": 4,
 "nbformat_minor": 2
}
